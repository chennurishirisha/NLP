{
 "cells": [
  {
   "cell_type": "code",
   "execution_count": 1,
   "id": "cc3d3663",
   "metadata": {},
   "outputs": [
    {
     "name": "stdout",
     "output_type": "stream",
     "text": [
      "Requirement already satisfied: nltk in c:\\users\\shiri\\anaconda3\\lib\\site-packages (3.7)\n",
      "Requirement already satisfied: click in c:\\users\\shiri\\anaconda3\\lib\\site-packages (from nltk) (8.0.4)\n",
      "Requirement already satisfied: joblib in c:\\users\\shiri\\anaconda3\\lib\\site-packages (from nltk) (1.1.0)\n",
      "Requirement already satisfied: regex>=2021.8.3 in c:\\users\\shiri\\anaconda3\\lib\\site-packages (from nltk) (2022.7.9)\n",
      "Requirement already satisfied: tqdm in c:\\users\\shiri\\anaconda3\\lib\\site-packages (from nltk) (4.64.1)\n",
      "Requirement already satisfied: colorama in c:\\users\\shiri\\anaconda3\\lib\\site-packages (from click->nltk) (0.4.5)\n"
     ]
    }
   ],
   "source": [
    "!pip install nltk"
   ]
  },
  {
   "cell_type": "code",
   "execution_count": 2,
   "id": "4ca9410f",
   "metadata": {},
   "outputs": [],
   "source": [
    "paragraph = 'My greetings to the hardworking peasant brothers and sisters of Madhya Pradesh! Farmer friends from different corners of Madhya Pradesh have gathered here for this special function. So many farmers have come from Raisen. Thousands of farmer brothers and sisters are connected digitally with us. I welcome you all. In the past, the farmers of MP have suffered losses due to hailstones and natural calamities. Sixteen hundred crore rupees are being transferred to the bank accounts of 35 lakh such farmers of Madhya Pradesh during this function. There is no middleman and no commission. There is no cut. Money is being deposited directly into the bank accounts of farmers. It has been made possible because of technology. The modern system that India has created in the last 5-6 years is also being discussed all over the world today and the young talent of our country has contributed immensely in it'\n",
    "\n"
   ]
  },
  {
   "cell_type": "code",
   "execution_count": 3,
   "id": "2625a094",
   "metadata": {},
   "outputs": [
    {
     "data": {
      "text/plain": [
       "'My greetings to the hardworking peasant brothers and sisters of Madhya Pradesh! Farmer friends from different corners of Madhya Pradesh have gathered here for this special function. So many farmers have come from Raisen. Thousands of farmer brothers and sisters are connected digitally with us. I welcome you all. In the past, the farmers of MP have suffered losses due to hailstones and natural calamities. Sixteen hundred crore rupees are being transferred to the bank accounts of 35 lakh such farmers of Madhya Pradesh during this function. There is no middleman and no commission. There is no cut. Money is being deposited directly into the bank accounts of farmers. It has been made possible because of technology. The modern system that India has created in the last 5-6 years is also being discussed all over the world today and the young talent of our country has contributed immensely in it'"
      ]
     },
     "execution_count": 3,
     "metadata": {},
     "output_type": "execute_result"
    }
   ],
   "source": [
    "paragraph"
   ]
  },
  {
   "cell_type": "code",
   "execution_count": 4,
   "id": "b856f431",
   "metadata": {},
   "outputs": [],
   "source": [
    "import nltk\n",
    "from nltk.stem import PorterStemmer\n",
    "from nltk.corpus import stopwords"
   ]
  },
  {
   "cell_type": "code",
   "execution_count": 5,
   "id": "3f4e3522",
   "metadata": {},
   "outputs": [
    {
     "name": "stderr",
     "output_type": "stream",
     "text": [
      "[nltk_data] Downloading package punkt to\n",
      "[nltk_data]     C:\\Users\\shiri\\AppData\\Roaming\\nltk_data...\n",
      "[nltk_data]   Package punkt is already up-to-date!\n"
     ]
    }
   ],
   "source": [
    "## tokenization-- convert paragragh  to sentences to words\n",
    "nltk.download('punkt')\n",
    "sentences = nltk.sent_tokenize(paragraph) "
   ]
  },
  {
   "cell_type": "code",
   "execution_count": 6,
   "id": "88123da4",
   "metadata": {},
   "outputs": [
    {
     "name": "stdout",
     "output_type": "stream",
     "text": [
      "['My greetings to the hardworking peasant brothers and sisters of Madhya Pradesh!', 'Farmer friends from different corners of Madhya Pradesh have gathered here for this special function.', 'So many farmers have come from Raisen.', 'Thousands of farmer brothers and sisters are connected digitally with us.', 'I welcome you all.', 'In the past, the farmers of MP have suffered losses due to hailstones and natural calamities.', 'Sixteen hundred crore rupees are being transferred to the bank accounts of 35 lakh such farmers of Madhya Pradesh during this function.', 'There is no middleman and no commission.', 'There is no cut.', 'Money is being deposited directly into the bank accounts of farmers.', 'It has been made possible because of technology.', 'The modern system that India has created in the last 5-6 years is also being discussed all over the world today and the young talent of our country has contributed immensely in it']\n"
     ]
    }
   ],
   "source": [
    "print(sentences)"
   ]
  },
  {
   "cell_type": "code",
   "execution_count": 7,
   "id": "5ed1902c",
   "metadata": {},
   "outputs": [
    {
     "data": {
      "text/plain": [
       "list"
      ]
     },
     "execution_count": 7,
     "metadata": {},
     "output_type": "execute_result"
    }
   ],
   "source": [
    "type(sentences)"
   ]
  },
  {
   "cell_type": "code",
   "execution_count": 9,
   "id": "40a77ca8",
   "metadata": {},
   "outputs": [],
   "source": [
    "stemmer = PorterStemmer()"
   ]
  },
  {
   "cell_type": "code",
   "execution_count": 10,
   "id": "6fdd2cb5",
   "metadata": {},
   "outputs": [
    {
     "data": {
      "text/plain": [
       "'histori'"
      ]
     },
     "execution_count": 10,
     "metadata": {},
     "output_type": "execute_result"
    }
   ],
   "source": [
    "## stemmingstemmer =PorterStemmer()\n",
    "stemmer.stem('history')"
   ]
  },
  {
   "cell_type": "code",
   "execution_count": 11,
   "id": "42de24ea",
   "metadata": {},
   "outputs": [],
   "source": [
    "from nltk.stem import WordNetLemmatizer\n"
   ]
  },
  {
   "cell_type": "code",
   "execution_count": 12,
   "id": "1413d78d",
   "metadata": {},
   "outputs": [],
   "source": [
    "lemmatizer = WordNetLemmatizer()"
   ]
  },
  {
   "cell_type": "code",
   "execution_count": 13,
   "id": "d64af1f4",
   "metadata": {},
   "outputs": [
    {
     "data": {
      "text/plain": [
       "'history'"
      ]
     },
     "execution_count": 13,
     "metadata": {},
     "output_type": "execute_result"
    }
   ],
   "source": [
    "\n",
    "\n",
    "lemmatizer.lemmatize('history')"
   ]
  },
  {
   "cell_type": "code",
   "execution_count": 14,
   "id": "54d0e81b",
   "metadata": {},
   "outputs": [
    {
     "data": {
      "text/plain": [
       "'go'"
      ]
     },
     "execution_count": 14,
     "metadata": {},
     "output_type": "execute_result"
    }
   ],
   "source": [
    "## proper dictinary meaning word for lematizer\n",
    "\n",
    "lemmatizer.lemmatize('goes')"
   ]
  },
  {
   "cell_type": "code",
   "execution_count": 15,
   "id": "629c9a84",
   "metadata": {},
   "outputs": [
    {
     "data": {
      "text/plain": [
       "12"
      ]
     },
     "execution_count": 15,
     "metadata": {},
     "output_type": "execute_result"
    }
   ],
   "source": [
    "len(sentences)"
   ]
  },
  {
   "cell_type": "code",
   "execution_count": 35,
   "id": "042072b7",
   "metadata": {},
   "outputs": [],
   "source": [
    "import re"
   ]
  },
  {
   "cell_type": "code",
   "execution_count": 36,
   "id": "1295d43e",
   "metadata": {},
   "outputs": [],
   "source": [
    "corpus = []\n",
    "for i in range(len(sentences)):\n",
    "    review = re.sub('[^a-zA-Z]',' ',sentences[i])\n",
    "    review = review.lower()\n",
    "    corpus.append(review)"
   ]
  },
  {
   "cell_type": "code",
   "execution_count": 37,
   "id": "7cff7ce2",
   "metadata": {},
   "outputs": [
    {
     "data": {
      "text/plain": [
       "['my greetings to the hardworking peasant brothers and sisters of madhya pradesh ',\n",
       " 'farmer friends from different corners of madhya pradesh have gathered here for this special function ',\n",
       " 'so many farmers have come from raisen ',\n",
       " 'thousands of farmer brothers and sisters are connected digitally with us ',\n",
       " 'i welcome you all ',\n",
       " 'in the past  the farmers of mp have suffered losses due to hailstones and natural calamities ',\n",
       " 'sixteen hundred crore rupees are being transferred to the bank accounts of    lakh such farmers of madhya pradesh during this function ',\n",
       " 'there is no middleman and no commission ',\n",
       " 'there is no cut ',\n",
       " 'money is being deposited directly into the bank accounts of farmers ',\n",
       " 'it has been made possible because of technology ',\n",
       " 'the modern system that india has created in the last     years is also being discussed all over the world today and the young talent of our country has contributed immensely in it']"
      ]
     },
     "execution_count": 37,
     "metadata": {},
     "output_type": "execute_result"
    }
   ],
   "source": [
    "corpus"
   ]
  },
  {
   "cell_type": "code",
   "execution_count": 38,
   "id": "466f8dfe",
   "metadata": {},
   "outputs": [
    {
     "data": {
      "text/plain": [
       "['i',\n",
       " 'me',\n",
       " 'my',\n",
       " 'myself',\n",
       " 'we',\n",
       " 'our',\n",
       " 'ours',\n",
       " 'ourselves',\n",
       " 'you',\n",
       " \"you're\",\n",
       " \"you've\",\n",
       " \"you'll\",\n",
       " \"you'd\",\n",
       " 'your',\n",
       " 'yours',\n",
       " 'yourself',\n",
       " 'yourselves',\n",
       " 'he',\n",
       " 'him',\n",
       " 'his',\n",
       " 'himself',\n",
       " 'she',\n",
       " \"she's\",\n",
       " 'her',\n",
       " 'hers',\n",
       " 'herself',\n",
       " 'it',\n",
       " \"it's\",\n",
       " 'its',\n",
       " 'itself',\n",
       " 'they',\n",
       " 'them',\n",
       " 'their',\n",
       " 'theirs',\n",
       " 'themselves',\n",
       " 'what',\n",
       " 'which',\n",
       " 'who',\n",
       " 'whom',\n",
       " 'this',\n",
       " 'that',\n",
       " \"that'll\",\n",
       " 'these',\n",
       " 'those',\n",
       " 'am',\n",
       " 'is',\n",
       " 'are',\n",
       " 'was',\n",
       " 'were',\n",
       " 'be',\n",
       " 'been',\n",
       " 'being',\n",
       " 'have',\n",
       " 'has',\n",
       " 'had',\n",
       " 'having',\n",
       " 'do',\n",
       " 'does',\n",
       " 'did',\n",
       " 'doing',\n",
       " 'a',\n",
       " 'an',\n",
       " 'the',\n",
       " 'and',\n",
       " 'but',\n",
       " 'if',\n",
       " 'or',\n",
       " 'because',\n",
       " 'as',\n",
       " 'until',\n",
       " 'while',\n",
       " 'of',\n",
       " 'at',\n",
       " 'by',\n",
       " 'for',\n",
       " 'with',\n",
       " 'about',\n",
       " 'against',\n",
       " 'between',\n",
       " 'into',\n",
       " 'through',\n",
       " 'during',\n",
       " 'before',\n",
       " 'after',\n",
       " 'above',\n",
       " 'below',\n",
       " 'to',\n",
       " 'from',\n",
       " 'up',\n",
       " 'down',\n",
       " 'in',\n",
       " 'out',\n",
       " 'on',\n",
       " 'off',\n",
       " 'over',\n",
       " 'under',\n",
       " 'again',\n",
       " 'further',\n",
       " 'then',\n",
       " 'once',\n",
       " 'here',\n",
       " 'there',\n",
       " 'when',\n",
       " 'where',\n",
       " 'why',\n",
       " 'how',\n",
       " 'all',\n",
       " 'any',\n",
       " 'both',\n",
       " 'each',\n",
       " 'few',\n",
       " 'more',\n",
       " 'most',\n",
       " 'other',\n",
       " 'some',\n",
       " 'such',\n",
       " 'no',\n",
       " 'nor',\n",
       " 'not',\n",
       " 'only',\n",
       " 'own',\n",
       " 'same',\n",
       " 'so',\n",
       " 'than',\n",
       " 'too',\n",
       " 'very',\n",
       " 's',\n",
       " 't',\n",
       " 'can',\n",
       " 'will',\n",
       " 'just',\n",
       " 'don',\n",
       " \"don't\",\n",
       " 'should',\n",
       " \"should've\",\n",
       " 'now',\n",
       " 'd',\n",
       " 'll',\n",
       " 'm',\n",
       " 'o',\n",
       " 're',\n",
       " 've',\n",
       " 'y',\n",
       " 'ain',\n",
       " 'aren',\n",
       " \"aren't\",\n",
       " 'couldn',\n",
       " \"couldn't\",\n",
       " 'didn',\n",
       " \"didn't\",\n",
       " 'doesn',\n",
       " \"doesn't\",\n",
       " 'hadn',\n",
       " \"hadn't\",\n",
       " 'hasn',\n",
       " \"hasn't\",\n",
       " 'haven',\n",
       " \"haven't\",\n",
       " 'isn',\n",
       " \"isn't\",\n",
       " 'ma',\n",
       " 'mightn',\n",
       " \"mightn't\",\n",
       " 'mustn',\n",
       " \"mustn't\",\n",
       " 'needn',\n",
       " \"needn't\",\n",
       " 'shan',\n",
       " \"shan't\",\n",
       " 'shouldn',\n",
       " \"shouldn't\",\n",
       " 'wasn',\n",
       " \"wasn't\",\n",
       " 'weren',\n",
       " \"weren't\",\n",
       " 'won',\n",
       " \"won't\",\n",
       " 'wouldn',\n",
       " \"wouldn't\"]"
      ]
     },
     "execution_count": 38,
     "metadata": {},
     "output_type": "execute_result"
    }
   ],
   "source": [
    "stopwords.words('english')"
   ]
  },
  {
   "cell_type": "code",
   "execution_count": 39,
   "id": "c745b0c1",
   "metadata": {},
   "outputs": [
    {
     "name": "stdout",
     "output_type": "stream",
     "text": [
      "greet\n",
      "hardwork\n",
      "peasant\n",
      "brother\n",
      "sister\n",
      "madhya\n",
      "pradesh\n",
      "farmer\n",
      "friend\n",
      "differ\n",
      "corner\n",
      "madhya\n",
      "pradesh\n",
      "gather\n",
      "special\n",
      "function\n",
      "mani\n",
      "farmer\n",
      "come\n",
      "raisen\n",
      "thousand\n",
      "farmer\n",
      "brother\n",
      "sister\n",
      "connect\n",
      "digit\n",
      "us\n",
      "welcom\n",
      "past\n",
      "farmer\n",
      "mp\n",
      "suffer\n",
      "loss\n",
      "due\n",
      "hailston\n",
      "natur\n",
      "calam\n",
      "sixteen\n",
      "hundr\n",
      "crore\n",
      "rupe\n",
      "transfer\n",
      "bank\n",
      "account\n",
      "lakh\n",
      "farmer\n",
      "madhya\n",
      "pradesh\n",
      "function\n",
      "middleman\n",
      "commiss\n",
      "cut\n",
      "money\n",
      "deposit\n",
      "directli\n",
      "bank\n",
      "account\n",
      "farmer\n",
      "made\n",
      "possibl\n",
      "technolog\n",
      "modern\n",
      "system\n",
      "india\n",
      "creat\n",
      "last\n",
      "year\n",
      "also\n",
      "discuss\n",
      "world\n",
      "today\n",
      "young\n",
      "talent\n",
      "countri\n",
      "contribut\n",
      "immens\n"
     ]
    }
   ],
   "source": [
    "## apply stemming\n",
    "for i in corpus:\n",
    "    words = nltk.word_tokenize(i)\n",
    "    \n",
    "    for word in words:\n",
    "        if word not in set(stopwords.words('english')):\n",
    "            print(stemmer.stem(word))\n",
    "        "
   ]
  },
  {
   "cell_type": "code",
   "execution_count": 40,
   "id": "5b63bbde",
   "metadata": {},
   "outputs": [
    {
     "data": {
      "text/plain": [
       "['my greetings to the hardworking peasant brothers and sisters of madhya pradesh ',\n",
       " 'farmer friends from different corners of madhya pradesh have gathered here for this special function ',\n",
       " 'so many farmers have come from raisen ',\n",
       " 'thousands of farmer brothers and sisters are connected digitally with us ',\n",
       " 'i welcome you all ',\n",
       " 'in the past  the farmers of mp have suffered losses due to hailstones and natural calamities ',\n",
       " 'sixteen hundred crore rupees are being transferred to the bank accounts of    lakh such farmers of madhya pradesh during this function ',\n",
       " 'there is no middleman and no commission ',\n",
       " 'there is no cut ',\n",
       " 'money is being deposited directly into the bank accounts of farmers ',\n",
       " 'it has been made possible because of technology ',\n",
       " 'the modern system that india has created in the last     years is also being discussed all over the world today and the young talent of our country has contributed immensely in it']"
      ]
     },
     "execution_count": 40,
     "metadata": {},
     "output_type": "execute_result"
    }
   ],
   "source": [
    "corpus"
   ]
  },
  {
   "cell_type": "code",
   "execution_count": 41,
   "id": "2a40592b",
   "metadata": {},
   "outputs": [
    {
     "name": "stdout",
     "output_type": "stream",
     "text": [
      "greeting\n",
      "hardworking\n",
      "peasant\n",
      "brother\n",
      "sister\n",
      "madhya\n",
      "pradesh\n",
      "farmer\n",
      "friend\n",
      "different\n",
      "corner\n",
      "madhya\n",
      "pradesh\n",
      "gathered\n",
      "special\n",
      "function\n",
      "many\n",
      "farmer\n",
      "come\n",
      "raisen\n",
      "thousand\n",
      "farmer\n",
      "brother\n",
      "sister\n",
      "connected\n",
      "digitally\n",
      "u\n",
      "welcome\n",
      "past\n",
      "farmer\n",
      "mp\n",
      "suffered\n",
      "loss\n",
      "due\n",
      "hailstone\n",
      "natural\n",
      "calamity\n",
      "sixteen\n",
      "hundred\n",
      "crore\n",
      "rupee\n",
      "transferred\n",
      "bank\n",
      "account\n",
      "lakh\n",
      "farmer\n",
      "madhya\n",
      "pradesh\n",
      "function\n",
      "middleman\n",
      "commission\n",
      "cut\n",
      "money\n",
      "deposited\n",
      "directly\n",
      "bank\n",
      "account\n",
      "farmer\n",
      "made\n",
      "possible\n",
      "technology\n",
      "modern\n",
      "system\n",
      "india\n",
      "created\n",
      "last\n",
      "year\n",
      "also\n",
      "discussed\n",
      "world\n",
      "today\n",
      "young\n",
      "talent\n",
      "country\n",
      "contributed\n",
      "immensely\n"
     ]
    }
   ],
   "source": [
    "## apply lematization\n",
    "for i in corpus:\n",
    "    words = nltk.word_tokenize(i)\n",
    "    \n",
    "    for word in words:\n",
    "        if word not in set(stopwords.words('english')):\n",
    "            print(lemmatizer.lemmatize(word))\n",
    "        "
   ]
  },
  {
   "cell_type": "code",
   "execution_count": 42,
   "id": "322952ea",
   "metadata": {},
   "outputs": [],
   "source": [
    "##bag of words(sklearn.feature_extraction.text.CountVectorizer)\n",
    "from sklearn.feature_extraction.text import CountVectorizer\n",
    "cv = CountVectorizer(binary = True)\n"
   ]
  },
  {
   "cell_type": "code",
   "execution_count": 43,
   "id": "1813ff20",
   "metadata": {},
   "outputs": [],
   "source": [
    "x = cv.fit_transform(corpus)"
   ]
  },
  {
   "cell_type": "code",
   "execution_count": 44,
   "id": "1e018add",
   "metadata": {},
   "outputs": [
    {
     "data": {
      "text/plain": [
       "{'my': 57,\n",
       " 'greetings': 34,\n",
       " 'to': 83,\n",
       " 'the': 79,\n",
       " 'hardworking': 36,\n",
       " 'peasant': 64,\n",
       " 'brothers': 9,\n",
       " 'and': 3,\n",
       " 'sisters': 69,\n",
       " 'of': 60,\n",
       " 'madhya': 51,\n",
       " 'pradesh': 66,\n",
       " 'farmer': 27,\n",
       " 'friends': 30,\n",
       " 'from': 31,\n",
       " 'different': 21,\n",
       " 'corners': 15,\n",
       " 'have': 38,\n",
       " 'gathered': 33,\n",
       " 'here': 39,\n",
       " 'for': 29,\n",
       " 'this': 81,\n",
       " 'special': 72,\n",
       " 'function': 32,\n",
       " 'so': 71,\n",
       " 'many': 52,\n",
       " 'farmers': 28,\n",
       " 'come': 11,\n",
       " 'raisen': 67,\n",
       " 'thousands': 82,\n",
       " 'are': 4,\n",
       " 'connected': 13,\n",
       " 'digitally': 22,\n",
       " 'with': 88,\n",
       " 'us': 86,\n",
       " 'welcome': 87,\n",
       " 'you': 91,\n",
       " 'all': 1,\n",
       " 'in': 42,\n",
       " 'past': 63,\n",
       " 'mp': 56,\n",
       " 'suffered': 74,\n",
       " 'losses': 49,\n",
       " 'due': 25,\n",
       " 'hailstones': 35,\n",
       " 'natural': 58,\n",
       " 'calamities': 10,\n",
       " 'sixteen': 70,\n",
       " 'hundred': 40,\n",
       " 'crore': 18,\n",
       " 'rupees': 68,\n",
       " 'being': 8,\n",
       " 'transferred': 85,\n",
       " 'bank': 5,\n",
       " 'accounts': 0,\n",
       " 'lakh': 47,\n",
       " 'such': 73,\n",
       " 'during': 26,\n",
       " 'there': 80,\n",
       " 'is': 45,\n",
       " 'no': 59,\n",
       " 'middleman': 53,\n",
       " 'commission': 12,\n",
       " 'cut': 19,\n",
       " 'money': 55,\n",
       " 'deposited': 20,\n",
       " 'directly': 23,\n",
       " 'into': 44,\n",
       " 'it': 46,\n",
       " 'has': 37,\n",
       " 'been': 7,\n",
       " 'made': 50,\n",
       " 'possible': 65,\n",
       " 'because': 6,\n",
       " 'technology': 77,\n",
       " 'modern': 54,\n",
       " 'system': 75,\n",
       " 'that': 78,\n",
       " 'india': 43,\n",
       " 'created': 17,\n",
       " 'last': 48,\n",
       " 'years': 90,\n",
       " 'also': 2,\n",
       " 'discussed': 24,\n",
       " 'over': 62,\n",
       " 'world': 89,\n",
       " 'today': 84,\n",
       " 'young': 92,\n",
       " 'talent': 76,\n",
       " 'our': 61,\n",
       " 'country': 16,\n",
       " 'contributed': 14,\n",
       " 'immensely': 41}"
      ]
     },
     "execution_count": 44,
     "metadata": {},
     "output_type": "execute_result"
    }
   ],
   "source": [
    "cv.vocabulary_"
   ]
  },
  {
   "cell_type": "code",
   "execution_count": 45,
   "id": "2190aa13",
   "metadata": {},
   "outputs": [
    {
     "data": {
      "text/plain": [
       "'my greetings to the hardworking peasant brothers and sisters of madhya pradesh '"
      ]
     },
     "execution_count": 45,
     "metadata": {},
     "output_type": "execute_result"
    }
   ],
   "source": [
    "corpus[0]"
   ]
  },
  {
   "cell_type": "code",
   "execution_count": 46,
   "id": "0fb27d3a",
   "metadata": {},
   "outputs": [
    {
     "data": {
      "text/plain": [
       "array([[0, 0, 0, 1, 0, 0, 0, 0, 0, 1, 0, 0, 0, 0, 0, 0, 0, 0, 0, 0, 0, 0,\n",
       "        0, 0, 0, 0, 0, 0, 0, 0, 0, 0, 0, 0, 1, 0, 1, 0, 0, 0, 0, 0, 0, 0,\n",
       "        0, 0, 0, 0, 0, 0, 0, 1, 0, 0, 0, 0, 0, 1, 0, 0, 1, 0, 0, 0, 1, 0,\n",
       "        1, 0, 0, 1, 0, 0, 0, 0, 0, 0, 0, 0, 0, 1, 0, 0, 0, 1, 0, 0, 0, 0,\n",
       "        0, 0, 0, 0, 0]], dtype=int64)"
      ]
     },
     "execution_count": 46,
     "metadata": {},
     "output_type": "execute_result"
    }
   ],
   "source": [
    "x[0].toarray()"
   ]
  },
  {
   "cell_type": "code",
   "execution_count": 47,
   "id": "b88389a6",
   "metadata": {},
   "outputs": [],
   "source": [
    "## apply stopwords,lematize\n",
    "import re \n",
    "corpus = []\n",
    "for i in range(len(sentences)):\n",
    "    review = re.sub('[^a-zA-Z]',' ',sentences[i])\n",
    "    review = review.lower()\n",
    "    review = review.split()\n",
    "    review = [lemmatizer.lemmatize(word) for word in review if not word in set(stopwords.words('english'))]\n",
    "    review = ' '.join(review)\n",
    "    corpus.append(review)"
   ]
  },
  {
   "cell_type": "code",
   "execution_count": 48,
   "id": "5a1ba53f",
   "metadata": {},
   "outputs": [
    {
     "data": {
      "text/plain": [
       "['greeting hardworking peasant brother sister madhya pradesh',\n",
       " 'farmer friend different corner madhya pradesh gathered special function',\n",
       " 'many farmer come raisen',\n",
       " 'thousand farmer brother sister connected digitally u',\n",
       " 'welcome',\n",
       " 'past farmer mp suffered loss due hailstone natural calamity',\n",
       " 'sixteen hundred crore rupee transferred bank account lakh farmer madhya pradesh function',\n",
       " 'middleman commission',\n",
       " 'cut',\n",
       " 'money deposited directly bank account farmer',\n",
       " 'made possible technology',\n",
       " 'modern system india created last year also discussed world today young talent country contributed immensely']"
      ]
     },
     "execution_count": 48,
     "metadata": {},
     "output_type": "execute_result"
    }
   ],
   "source": [
    "corpus"
   ]
  },
  {
   "cell_type": "code",
   "execution_count": 49,
   "id": "9a24635e",
   "metadata": {},
   "outputs": [],
   "source": [
    "\n",
    "\n",
    "cv = CountVectorizer(binary = True)\n"
   ]
  },
  {
   "cell_type": "code",
   "execution_count": 50,
   "id": "5fcc44af",
   "metadata": {},
   "outputs": [],
   "source": [
    "y = cv.fit_transform(corpus)"
   ]
  },
  {
   "cell_type": "code",
   "execution_count": 31,
   "id": "56641fba",
   "metadata": {},
   "outputs": [
    {
     "data": {
      "text/plain": [
       "{'greeting': 24,\n",
       " 'hardworking': 26,\n",
       " 'peasant': 42,\n",
       " 'brother': 3,\n",
       " 'sister': 47,\n",
       " 'madhya': 34,\n",
       " 'pradesh': 44,\n",
       " 'farmer': 20,\n",
       " 'friend': 21,\n",
       " 'different': 15,\n",
       " 'corner': 9,\n",
       " 'gathered': 23,\n",
       " 'special': 49,\n",
       " 'function': 22,\n",
       " 'many': 35,\n",
       " 'come': 5,\n",
       " 'raisen': 45,\n",
       " 'thousand': 54,\n",
       " 'connected': 7,\n",
       " 'digitally': 16,\n",
       " 'welcome': 57,\n",
       " 'past': 41,\n",
       " 'mp': 39,\n",
       " 'suffered': 50,\n",
       " 'loss': 32,\n",
       " 'due': 19,\n",
       " 'hailstone': 25,\n",
       " 'natural': 40,\n",
       " 'calamity': 4,\n",
       " 'sixteen': 48,\n",
       " 'hundred': 27,\n",
       " 'crore': 12,\n",
       " 'rupee': 46,\n",
       " 'transferred': 56,\n",
       " 'bank': 2,\n",
       " 'account': 0,\n",
       " 'lakh': 30,\n",
       " 'middleman': 36,\n",
       " 'commission': 6,\n",
       " 'cut': 13,\n",
       " 'money': 38,\n",
       " 'deposited': 14,\n",
       " 'directly': 17,\n",
       " 'made': 33,\n",
       " 'possible': 43,\n",
       " 'technology': 53,\n",
       " 'modern': 37,\n",
       " 'system': 51,\n",
       " 'india': 29,\n",
       " 'created': 11,\n",
       " 'last': 31,\n",
       " 'year': 59,\n",
       " 'also': 1,\n",
       " 'discussed': 18,\n",
       " 'world': 58,\n",
       " 'today': 55,\n",
       " 'young': 60,\n",
       " 'talent': 52,\n",
       " 'country': 10,\n",
       " 'contributed': 8,\n",
       " 'immensely': 28}"
      ]
     },
     "execution_count": 31,
     "metadata": {},
     "output_type": "execute_result"
    }
   ],
   "source": [
    "cv.vocabulary_"
   ]
  },
  {
   "cell_type": "code",
   "execution_count": 32,
   "id": "b0a54da2",
   "metadata": {},
   "outputs": [
    {
     "data": {
      "text/plain": [
       "'greeting hardworking peasant brother sister madhya pradesh'"
      ]
     },
     "execution_count": 32,
     "metadata": {},
     "output_type": "execute_result"
    }
   ],
   "source": [
    "corpus[0]"
   ]
  },
  {
   "cell_type": "code",
   "execution_count": 33,
   "id": "7266612d",
   "metadata": {},
   "outputs": [
    {
     "data": {
      "text/plain": [
       "array([[0, 0, 0, 1, 0, 0, 0, 0, 0, 0, 0, 0, 0, 0, 0, 0, 0, 0, 0, 0, 0, 0,\n",
       "        0, 0, 1, 0, 1, 0, 0, 0, 0, 0, 0, 0, 1, 0, 0, 0, 0, 0, 0, 0, 1, 0,\n",
       "        1, 0, 0, 1, 0, 0, 0, 0, 0, 0, 0, 0, 0, 0, 0, 0, 0]], dtype=int64)"
      ]
     },
     "execution_count": 33,
     "metadata": {},
     "output_type": "execute_result"
    }
   ],
   "source": [
    "y[0].toarray()"
   ]
  },
  {
   "cell_type": "code",
   "execution_count": 54,
   "id": "0e80b7a8",
   "metadata": {},
   "outputs": [],
   "source": [
    "## bag of words\n",
    "\n",
    "cv = CountVectorizer(binary = True,ngram_range = (2,3))\n"
   ]
  },
  {
   "cell_type": "code",
   "execution_count": 55,
   "id": "cca9bbfd",
   "metadata": {},
   "outputs": [],
   "source": [
    "z = cv.fit_transform(corpus)"
   ]
  },
  {
   "cell_type": "code",
   "execution_count": 56,
   "id": "2f98317e",
   "metadata": {},
   "outputs": [
    {
     "data": {
      "text/plain": [
       "{'greeting hardworking': 46,\n",
       " 'hardworking peasant': 50,\n",
       " 'peasant brother': 79,\n",
       " 'brother sister': 8,\n",
       " 'sister madhya': 89,\n",
       " 'madhya pradesh': 64,\n",
       " 'greeting hardworking peasant': 47,\n",
       " 'hardworking peasant brother': 51,\n",
       " 'peasant brother sister': 80,\n",
       " 'brother sister madhya': 10,\n",
       " 'sister madhya pradesh': 90,\n",
       " 'farmer friend': 36,\n",
       " 'friend different': 42,\n",
       " 'different corner': 24,\n",
       " 'corner madhya': 14,\n",
       " 'pradesh gathered': 83,\n",
       " 'gathered special': 44,\n",
       " 'special function': 93,\n",
       " 'farmer friend different': 37,\n",
       " 'friend different corner': 43,\n",
       " 'different corner madhya': 25,\n",
       " 'corner madhya pradesh': 15,\n",
       " 'madhya pradesh gathered': 66,\n",
       " 'pradesh gathered special': 84,\n",
       " 'gathered special function': 45,\n",
       " 'many farmer': 67,\n",
       " 'farmer come': 34,\n",
       " 'come raisen': 11,\n",
       " 'many farmer come': 68,\n",
       " 'farmer come raisen': 35,\n",
       " 'thousand farmer': 100,\n",
       " 'farmer brother': 32,\n",
       " 'sister connected': 87,\n",
       " 'connected digitally': 12,\n",
       " 'thousand farmer brother': 101,\n",
       " 'farmer brother sister': 33,\n",
       " 'brother sister connected': 9,\n",
       " 'sister connected digitally': 88,\n",
       " 'past farmer': 77,\n",
       " 'farmer mp': 40,\n",
       " 'mp suffered': 74,\n",
       " 'suffered loss': 94,\n",
       " 'loss due': 60,\n",
       " 'due hailstone': 30,\n",
       " 'hailstone natural': 48,\n",
       " 'natural calamity': 76,\n",
       " 'past farmer mp': 78,\n",
       " 'farmer mp suffered': 41,\n",
       " 'mp suffered loss': 75,\n",
       " 'suffered loss due': 95,\n",
       " 'loss due hailstone': 61,\n",
       " 'due hailstone natural': 31,\n",
       " 'hailstone natural calamity': 49,\n",
       " 'sixteen hundred': 91,\n",
       " 'hundred crore': 52,\n",
       " 'crore rupee': 20,\n",
       " 'rupee transferred': 85,\n",
       " 'transferred bank': 104,\n",
       " 'bank account': 5,\n",
       " 'account lakh': 1,\n",
       " 'lakh farmer': 56,\n",
       " 'farmer madhya': 38,\n",
       " 'pradesh function': 82,\n",
       " 'sixteen hundred crore': 92,\n",
       " 'hundred crore rupee': 53,\n",
       " 'crore rupee transferred': 21,\n",
       " 'rupee transferred bank': 86,\n",
       " 'transferred bank account': 105,\n",
       " 'bank account lakh': 7,\n",
       " 'account lakh farmer': 2,\n",
       " 'lakh farmer madhya': 57,\n",
       " 'farmer madhya pradesh': 39,\n",
       " 'madhya pradesh function': 65,\n",
       " 'middleman commission': 69,\n",
       " 'money deposited': 72,\n",
       " 'deposited directly': 22,\n",
       " 'directly bank': 26,\n",
       " 'account farmer': 0,\n",
       " 'money deposited directly': 73,\n",
       " 'deposited directly bank': 23,\n",
       " 'directly bank account': 27,\n",
       " 'bank account farmer': 6,\n",
       " 'made possible': 62,\n",
       " 'possible technology': 81,\n",
       " 'made possible technology': 63,\n",
       " 'modern system': 70,\n",
       " 'system india': 96,\n",
       " 'india created': 54,\n",
       " 'created last': 18,\n",
       " 'last year': 58,\n",
       " 'year also': 108,\n",
       " 'also discussed': 3,\n",
       " 'discussed world': 28,\n",
       " 'world today': 106,\n",
       " 'today young': 102,\n",
       " 'young talent': 110,\n",
       " 'talent country': 98,\n",
       " 'country contributed': 16,\n",
       " 'contributed immensely': 13,\n",
       " 'modern system india': 71,\n",
       " 'system india created': 97,\n",
       " 'india created last': 55,\n",
       " 'created last year': 19,\n",
       " 'last year also': 59,\n",
       " 'year also discussed': 109,\n",
       " 'also discussed world': 4,\n",
       " 'discussed world today': 29,\n",
       " 'world today young': 107,\n",
       " 'today young talent': 103,\n",
       " 'young talent country': 111,\n",
       " 'talent country contributed': 99,\n",
       " 'country contributed immensely': 17}"
      ]
     },
     "execution_count": 56,
     "metadata": {},
     "output_type": "execute_result"
    }
   ],
   "source": [
    "cv.vocabulary_"
   ]
  },
  {
   "cell_type": "code",
   "execution_count": 57,
   "id": "f3489f09",
   "metadata": {},
   "outputs": [
    {
     "data": {
      "text/plain": [
       "'greeting hardworking peasant brother sister madhya pradesh'"
      ]
     },
     "execution_count": 57,
     "metadata": {},
     "output_type": "execute_result"
    }
   ],
   "source": [
    "corpus[0]"
   ]
  },
  {
   "cell_type": "code",
   "execution_count": 58,
   "id": "0c3e856b",
   "metadata": {},
   "outputs": [
    {
     "data": {
      "text/plain": [
       "array([[0, 0, 0, 0, 0, 0, 0, 0, 1, 0, 1, 0, 0, 0, 0, 0, 0, 0, 0, 0, 0, 0,\n",
       "        0, 0, 0, 0, 0, 0, 0, 0, 0, 0, 0, 0, 0, 0, 0, 0, 0, 0, 0, 0, 0, 0,\n",
       "        0, 0, 1, 1, 0, 0, 1, 1, 0, 0, 0, 0, 0, 0, 0, 0, 0, 0, 0, 0, 1, 0,\n",
       "        0, 0, 0, 0, 0, 0, 0, 0, 0, 0, 0, 0, 0, 1, 1, 0, 0, 0, 0, 0, 0, 0,\n",
       "        0, 1, 1, 0, 0, 0, 0, 0, 0, 0, 0, 0, 0, 0, 0, 0, 0, 0, 0, 0, 0, 0,\n",
       "        0, 0]], dtype=int64)"
      ]
     },
     "execution_count": 58,
     "metadata": {},
     "output_type": "execute_result"
    }
   ],
   "source": [
    "z[0].toarray()"
   ]
  },
  {
   "cell_type": "code",
   "execution_count": 75,
   "id": "d1b69e05",
   "metadata": {},
   "outputs": [],
   "source": [
    "### TF-IDF\n",
    "from sklearn.feature_extraction.text import TfidfVectorizer\n",
    "cv = TfidfVectorizer(ngram_range=(3, 3),max_features = 10)\n",
    "X = cv.fit_transform(corpus)"
   ]
  },
  {
   "cell_type": "code",
   "execution_count": 76,
   "id": "6d18d381",
   "metadata": {},
   "outputs": [
    {
     "data": {
      "text/plain": [
       "'greeting hardworking peasant brother sister madhya pradesh'"
      ]
     },
     "execution_count": 76,
     "metadata": {},
     "output_type": "execute_result"
    }
   ],
   "source": [
    "corpus[0]"
   ]
  },
  {
   "cell_type": "code",
   "execution_count": 77,
   "id": "706d0143",
   "metadata": {},
   "outputs": [
    {
     "data": {
      "text/plain": [
       "array([[0., 0., 0., 0., 0., 0., 0., 0., 0., 0.]])"
      ]
     },
     "execution_count": 77,
     "metadata": {},
     "output_type": "execute_result"
    }
   ],
   "source": [
    "# vectorisation\n",
    "X[0].toarray()"
   ]
  },
  {
   "cell_type": "code",
   "execution_count": null,
   "id": "187f04e1",
   "metadata": {},
   "outputs": [],
   "source": [
    "uci repositary dataset\n",
    "text classification  assignement"
   ]
  },
  {
   "cell_type": "code",
   "execution_count": null,
   "id": "0ca18092",
   "metadata": {},
   "outputs": [],
   "source": []
  }
 ],
 "metadata": {
  "kernelspec": {
   "display_name": "Python 3 (ipykernel)",
   "language": "python",
   "name": "python3"
  },
  "language_info": {
   "codemirror_mode": {
    "name": "ipython",
    "version": 3
   },
   "file_extension": ".py",
   "mimetype": "text/x-python",
   "name": "python",
   "nbconvert_exporter": "python",
   "pygments_lexer": "ipython3",
   "version": "3.9.13"
  }
 },
 "nbformat": 4,
 "nbformat_minor": 5
}
